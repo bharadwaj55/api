{
 "cells": [
  {
   "cell_type": "code",
   "execution_count": 12,
   "id": "495e541e",
   "metadata": {},
   "outputs": [],
   "source": [
    "user_db = {\n",
    "    1:{\"name\":\"sudhanshu\", \"age\": 30},\n",
    "    2:{\"name\": \"amrendra\", \"age\": 25},\n",
    "    3:{\"name\":\"mustafa\", \"age\": 28}\n",
    "}"
   ]
  },
  {
   "cell_type": "code",
   "execution_count": 6,
   "id": "31e573c0",
   "metadata": {},
   "outputs": [],
   "source": [
    "user_db[1] = {\"name\":\"John\", \"age\": 30}"
   ]
  },
  {
   "cell_type": "code",
   "execution_count": 13,
   "id": "b8f0abec",
   "metadata": {},
   "outputs": [
    {
     "data": {
      "text/plain": [
       "{1: {'name': 'sudhanshu', 'age': 30},\n",
       " 2: {'name': 'amrendra', 'age': 25},\n",
       " 3: {'name': 'mustafa', 'age': 28}}"
      ]
     },
     "execution_count": 13,
     "metadata": {},
     "output_type": "execute_result"
    }
   ],
   "source": [
    "user_db"
   ]
  },
  {
   "cell_type": "code",
   "execution_count": 20,
   "id": "a7cc2491",
   "metadata": {},
   "outputs": [],
   "source": [
    "del user_db[2]"
   ]
  },
  {
   "cell_type": "code",
   "execution_count": 26,
   "id": "db76530b",
   "metadata": {},
   "outputs": [
    {
     "data": {
      "text/plain": [
       "{1: {'name': 'sudhanshu', 'age': 30}, 3: {'name': 'mustafa', 'age': 28}}"
      ]
     },
     "execution_count": 26,
     "metadata": {},
     "output_type": "execute_result"
    }
   ],
   "source": [
    "user_db"
   ]
  },
  {
   "cell_type": "code",
   "execution_count": 28,
   "id": "58873a92",
   "metadata": {},
   "outputs": [
    {
     "data": {
      "text/plain": [
       "{1: {'name': 'sudhanshu', 'age': 30}, 3: {'name': 'mustafa', 'age': 28}}"
      ]
     },
     "execution_count": 28,
     "metadata": {},
     "output_type": "execute_result"
    }
   ],
   "source": [
    "user_db"
   ]
  }
 ],
 "metadata": {
  "kernelspec": {
   "display_name": "base",
   "language": "python",
   "name": "python3"
  },
  "language_info": {
   "codemirror_mode": {
    "name": "ipython",
    "version": 3
   },
   "file_extension": ".py",
   "mimetype": "text/x-python",
   "name": "python",
   "nbconvert_exporter": "python",
   "pygments_lexer": "ipython3",
   "version": "3.13.5"
  }
 },
 "nbformat": 4,
 "nbformat_minor": 5
}
